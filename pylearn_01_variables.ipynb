{
  "nbformat": 4,
  "nbformat_minor": 0,
  "metadata": {
    "colab": {
      "provenance": [],
      "include_colab_link": true
    },
    "kernelspec": {
      "name": "python3",
      "display_name": "Python 3"
    },
    "language_info": {
      "name": "python"
    }
  },
  "cells": [
    {
      "cell_type": "markdown",
      "metadata": {
        "id": "view-in-github",
        "colab_type": "text"
      },
      "source": [
        "<a href=\"https://colab.research.google.com/github/sfxc-tsl/colab/blob/main/pylearn_01_variables.ipynb\" target=\"_parent\"><img src=\"https://colab.research.google.com/assets/colab-badge.svg\" alt=\"Open In Colab\"/></a>"
      ]
    },
    {
      "cell_type": "markdown",
      "source": [
        "# Lesson 1 - Variables and Types\n",
        "\n",
        "Link to this notebook: [mco.fyi/py1](https://mco.fyi/py1)\n",
        "\n",
        "**You should make your own copy of this notebook by selecting File->Save a copy in Drive from the menu bar above.**\n",
        "\n",
        "Things you'll learn in this lesson:\n",
        "- The basic data types you can work with in Python\n",
        "- How to create and assign values to variables in Python\n",
        "- How to call a function"
      ],
      "metadata": {
        "id": "pB15rzv-5A-i"
      }
    },
    {
      "cell_type": "markdown",
      "source": [
        "## Variables\n",
        "\n",
        "Any Python interpreter can be used as a calculator:\n"
      ],
      "metadata": {
        "id": "bJVtPIkr5KDA"
      }
    },
    {
      "cell_type": "code",
      "source": [
        "print(3 + 5 * 4)"
      ],
      "metadata": {
        "id": "O5D5Pvgu5MrL",
        "colab": {
          "base_uri": "https://localhost:8080/"
        },
        "outputId": "1fe20ac5-3458-415b-c0c5-9361e4258c5e"
      },
      "execution_count": null,
      "outputs": [
        {
          "output_type": "stream",
          "name": "stdout",
          "text": [
            "23\n"
          ]
        }
      ]
    },
    {
      "cell_type": "markdown",
      "source": [
        "This is great but not very interesting.\n",
        "To do anything useful with data, we need to assign its value to a _variable_.\n",
        "In Python, we can assign a value to a variable using the equals sign `=`.\n",
        "\n",
        "If a variable doesn’t already exist, when you assign to it, Python creates it on the fly. If you assign to a variable that already exists, Python replaces its current value with a new value.\n",
        "\n",
        "Examples\n",
        "\n",
        "    instructor = \"marc\"         # string value\n",
        "    instructor = \"my evil twin\" # same name, diff string value\n",
        "    instructor = 42             # same name, integer value\n",
        "    todays_high_temp = 71.3     # diff name, floating point value\n",
        "\n",
        "We can track the weight of a patient who weighs 60 kilograms by\n",
        "assigning the value `60` to a variable `weight_kg`:"
      ],
      "metadata": {
        "id": "zi5ctjIY5j5n"
      }
    },
    {
      "cell_type": "code",
      "source": [
        "weight_kg = 60\n",
        "print(weight_kg)"
      ],
      "metadata": {
        "id": "epIQ2nJs5pdy",
        "colab": {
          "base_uri": "https://localhost:8080/"
        },
        "outputId": "c9060039-0f91-4472-994a-5c534b1208e1"
      },
      "execution_count": null,
      "outputs": [
        {
          "output_type": "stream",
          "name": "stdout",
          "text": [
            "60\n"
          ]
        }
      ]
    },
    {
      "cell_type": "markdown",
      "source": [
        "From now on, whenever we use `weight_kg`, Python will substitute the value we assigned to it. In simpler terms, **a variable is a a reference to a value**.\n",
        "\n",
        "In Python, variable names:\n",
        "\n",
        " - can include letters, digits, and underscores\n",
        " - cannot start with a digit\n",
        " - are case sensitive\n",
        "\n",
        "This means that, for example:\n",
        " - `weight0` is a valid variable name, whereas `0weight` is not\n",
        " - `weight` and `Weight` are different variables"
      ],
      "metadata": {
        "id": "ei_aBfYIYmdI"
      }
    },
    {
      "cell_type": "markdown",
      "source": [
        "### Reserved Words\n",
        "\n",
        "The following words have special meaning in Python. We call them keywords or reserved words and you may not use these names for your program variables.\n",
        "\n",
        "> ```and, as, assert, break, class, continue, def, del, elif, else, except, False, finally, for, from, global, if, import, in, is, lambda, nonlocal, None, not, or, pass, raise, return, True, try, while, with, yield```"
      ],
      "metadata": {
        "id": "AQsH4eIdsUY_"
      }
    },
    {
      "cell_type": "markdown",
      "source": [
        "## Types of data\n",
        "Python knows about several types of data. Three common ones are:\n",
        "\n",
        "* integer numbers\n",
        "* floating point numbers\n",
        "* character strings\n",
        "\n",
        "In the example above, variable `weight_kg` was assigned an integer value of `60`. If we want to more precisely track the weight of our patient,\n",
        "we can use a floating point value by executing:"
      ],
      "metadata": {
        "id": "2vVrIzu76Mka"
      }
    },
    {
      "cell_type": "code",
      "source": [
        "weight_kg = 60.0\n",
        "print(weight_kg)"
      ],
      "metadata": {
        "id": "Q-cUtwa26PKT",
        "colab": {
          "base_uri": "https://localhost:8080/"
        },
        "outputId": "59844e86-017e-440c-ed10-0ac2f487aeac"
      },
      "execution_count": null,
      "outputs": [
        {
          "output_type": "stream",
          "name": "stdout",
          "text": [
            "60.0\n"
          ]
        }
      ]
    },
    {
      "cell_type": "markdown",
      "source": [
        "To create a string, we add single or double quotes around some text.\n",
        "To identify and track a patient throughout our study,\n",
        "we can assign each person a unique identifier by storing it in a string:"
      ],
      "metadata": {
        "id": "hRyCToPF6Uk7"
      }
    },
    {
      "cell_type": "code",
      "source": [
        "patient_id = \"001\"\n",
        "print(patient_id)"
      ],
      "metadata": {
        "id": "2g7XZo0m6X7Q",
        "colab": {
          "base_uri": "https://localhost:8080/"
        },
        "outputId": "19bb577d-5e53-48d8-aca9-98dd4865d5d6"
      },
      "execution_count": null,
      "outputs": [
        {
          "output_type": "stream",
          "name": "stdout",
          "text": [
            "001\n"
          ]
        }
      ]
    },
    {
      "cell_type": "markdown",
      "source": [
        "## Numeric Types\n",
        "\n",
        "Python supports two main types of numbers\n",
        "* int, arbitrary size signed integers, like these:\n",
        "  * `2011`\n",
        "  * `-999999999999`\n",
        "* float, arbitrary precision floating point numbers, like these:\n",
        "  * `3.14159`\n",
        "  * `3.8 * 10**6`\n",
        "\n",
        "For the most part, you don't need to worry about which type of number to use - Python will take care of that for you. The decimal point tells Python which to use.\n",
        "\n",
        "Mixing floats and ints results in a float so, for example, `2011 * 3.14` results in a floating point number.\n",
        "\n",
        "Try entering these expressions in the following cell:\n",
        "\n",
        "```\n",
        "print(5 - 6)  \n",
        "print(8 * 9)\n",
        "print(6 / 2)\n",
        "print(5.0 / 2)\n",
        "print(5 % 2)  \n",
        "print(2 * 10 + 3)  \n",
        "print(2 * (10 + 3))  \n",
        "print(2 ** 4)\n",
        "```\n",
        "Were there any outputs you didn't expect?"
      ],
      "metadata": {
        "id": "3IVQV7ajrzvM"
      }
    },
    {
      "cell_type": "code",
      "source": [
        "print(5 - 6)\n",
        "print(8 * 9)\n",
        "print(6 / 2)\n",
        "print(5.0 / 2)\n",
        "print(5 % 2)\n",
        "print(2 * 10 + 3)\n",
        "print(2 * (10 + 3))\n",
        "print(2 ** 4)"
      ],
      "metadata": {
        "id": "GxdsLvbqr2Bd",
        "colab": {
          "base_uri": "https://localhost:8080/"
        },
        "outputId": "f72d8feb-32be-45ce-ba7a-00a845219ba9"
      },
      "execution_count": null,
      "outputs": [
        {
          "output_type": "stream",
          "name": "stdout",
          "text": [
            "-1\n",
            "72\n",
            "3.0\n",
            "2.5\n",
            "1\n",
            "23\n",
            "26\n",
            "16\n"
          ]
        }
      ]
    },
    {
      "cell_type": "markdown",
      "source": [
        "## Using Variables in Python\n",
        "\n",
        "Once we have data stored with variable names, we can make use of those variables in our calculations. We call these combinations of variables and values  **expressions**. When evaluating an expression, Python internally replaces the variable names with the values to which they refer.\n",
        "\n",
        "We may want to store our patient's weight in pounds as well as kilograms:\n",
        "\n"
      ],
      "metadata": {
        "id": "S-j9OuQ96ofq"
      }
    },
    {
      "cell_type": "code",
      "source": [
        "weight_lb = 2.2 * weight_kg\n",
        "print(weight_lb)"
      ],
      "metadata": {
        "id": "gWSAZq0D6xpf",
        "colab": {
          "base_uri": "https://localhost:8080/"
        },
        "outputId": "2dbd13e7-72a9-4755-a932-aa468fde65b8"
      },
      "execution_count": null,
      "outputs": [
        {
          "output_type": "stream",
          "name": "stdout",
          "text": [
            "132.0\n"
          ]
        }
      ]
    },
    {
      "cell_type": "markdown",
      "source": [
        "We might also decide to add a prefix to our patient identifier:"
      ],
      "metadata": {
        "id": "hCZN9s236ucL"
      }
    },
    {
      "cell_type": "code",
      "source": [
        "patient_id = \"inflam_\" + patient_id\n",
        "print(patient_id)"
      ],
      "metadata": {
        "id": "gLIq7Z1u63VJ",
        "colab": {
          "base_uri": "https://localhost:8080/"
        },
        "outputId": "4b6e44d6-5e1d-4014-a1b1-ac4ec4f588bb"
      },
      "execution_count": null,
      "outputs": [
        {
          "output_type": "stream",
          "name": "stdout",
          "text": [
            "inflam_001\n"
          ]
        }
      ]
    },
    {
      "cell_type": "markdown",
      "source": [
        "## Built-in Python functions\n",
        "\n",
        "To carry out common tasks with data and variables in Python,\n",
        "the language provides us with several built-in functions.\n",
        "To display information to the screen, we use the `print` function:"
      ],
      "metadata": {
        "id": "8BnjHISr6-hN"
      }
    },
    {
      "cell_type": "code",
      "source": [
        "print(weight_lb)\n",
        "print(patient_id)"
      ],
      "metadata": {
        "id": "Igqiw5fJ7FLn"
      },
      "execution_count": null,
      "outputs": []
    },
    {
      "cell_type": "markdown",
      "source": [
        "When we want to make use of a function, referred to as **calling the function**, we follow its name by parentheses. The parentheses are important: if you leave them off, the function doesn't actually run!\n",
        "\n",
        "Sometimes you will include values or variables inside the parentheses for the function to use. In the case of `print`,\n",
        "we use the parentheses to tell the function which value we want to display. We will learn more about how functions work and how to create our own in later lessons.\n",
        "\n",
        "We can display multiple things at once using only one `print` function call:"
      ],
      "metadata": {
        "id": "amsnF9L47gWd"
      }
    },
    {
      "cell_type": "code",
      "source": [
        "print(patient_id, \"weight in kilograms:\", weight_kg)"
      ],
      "metadata": {
        "id": "oQpyFVpi7ivD"
      },
      "execution_count": null,
      "outputs": []
    },
    {
      "cell_type": "markdown",
      "source": [
        "We can also call a function inside of another function call. For example, Python has a built-in function called `type` that tells you a value's data type:"
      ],
      "metadata": {
        "id": "WsHwduqt7vjX"
      }
    },
    {
      "cell_type": "code",
      "source": [
        "print(type(60.3))\n",
        "print(type(patient_id))"
      ],
      "metadata": {
        "id": "6ZCBafYK7yQk"
      },
      "execution_count": null,
      "outputs": []
    },
    {
      "cell_type": "markdown",
      "source": [
        "We can also do arithmetic with variables right inside the `print` function:"
      ],
      "metadata": {
        "id": "OvDZ69F373aO"
      }
    },
    {
      "cell_type": "code",
      "source": [
        "print(\"weight in pounds:\", 2.2 * weight_kg)"
      ],
      "metadata": {
        "id": "oMNmpxlC75fA"
      },
      "execution_count": null,
      "outputs": []
    },
    {
      "cell_type": "markdown",
      "source": [
        "Note that the above function call did not change the value of `weight_kg`:"
      ],
      "metadata": {
        "id": "BxsTLSDG8GbK"
      }
    },
    {
      "cell_type": "code",
      "source": [
        "print(weight_kg)"
      ],
      "metadata": {
        "id": "aK3sN7nO8DWx"
      },
      "execution_count": null,
      "outputs": []
    },
    {
      "cell_type": "markdown",
      "source": [
        "To change the value of the `weight_kg` variable, we have to\n",
        "**assign** a new value to `weight_kg` using the equals `=` sign:"
      ],
      "metadata": {
        "id": "3UrH-otn8OJL"
      }
    },
    {
      "cell_type": "code",
      "source": [
        "weight_kg = 65.0\n",
        "print(\"weight in kilograms is now:\", weight_kg)"
      ],
      "metadata": {
        "id": "b3Stj4VQ8Qhn"
      },
      "execution_count": null,
      "outputs": []
    },
    {
      "cell_type": "markdown",
      "source": [
        "## Variables as Sticky Notes *(courtesy of Software Carpentry)*\n",
        "\n",
        "A variable in Python is analogous to a sticky note with a name written on it:\n",
        "assigning a value to a variable is like putting that sticky note on a particular value.\n",
        "\n",
        "![Value of 65.0 with weight_kg label stuck on it](https://raw.githubusercontent.com/mco-gh/python-novice-inflammation/gh-pages/fig/python-sticky-note-variables-01.svg)\n",
        "\n",
        "Using this analogy, we can investigate how assigning a value to one variable\n",
        "does **not** change values of other, seemingly related, variables.  For\n",
        "example, let's store the subject's weight in pounds in its own variable:"
      ],
      "metadata": {
        "id": "m4VdNmAm8pr7"
      }
    },
    {
      "cell_type": "code",
      "source": [
        "# There are 2.2 pounds per kilogram\n",
        "weight_lb = 2.2 * weight_kg\n",
        "print(\"weight in kilograms:\", weight_kg, \"and in pounds:\", weight_lb)\n"
      ],
      "metadata": {
        "id": "gYSnDfGx8y9r"
      },
      "execution_count": null,
      "outputs": []
    },
    {
      "cell_type": "markdown",
      "source": [
        "![Value of 65.0 with weight_kg label stuck on it, and value of 143.0 with weight_lb label stuck on it](https://raw.githubusercontent.com/mco-gh/python-novice-inflammation/gh-pages/fig/python-sticky-note-variables-02.svg)\n",
        "\n",
        "Similar to above, the expression `2.2 * weight_kg` is evaluated to `143.0`,\n",
        "and then this value is assigned to the variable `weight_lb` (i.e. the sticky\n",
        "note `weight_lb` is placed on `143.0`). At this point, each variable is\n",
        "\"stuck\" to completely distinct and unrelated values.\n",
        "\n",
        "Let's now change `weight_kg`:"
      ],
      "metadata": {
        "id": "uxMEUja_9IbJ"
      }
    },
    {
      "cell_type": "code",
      "source": [
        "weight_kg = 100.0\n",
        "print(\"weight in kilograms is now:\", weight_kg, \"and weight in pounds is still:\", weight_lb)"
      ],
      "metadata": {
        "id": "pL0RVhFq9NEu"
      },
      "execution_count": null,
      "outputs": []
    },
    {
      "cell_type": "markdown",
      "source": [
        "![Value of 100.0 with label weight_kg stuck on it, and value of 143.0 with label weight_lb stuck on it](https://raw.githubusercontent.com/mco-gh/python-novice-inflammation/gh-pages/fig/python-sticky-note-variables-03.svg)\n",
        "\n",
        "Since `weight_lb` doesn't \"remember\" where its value comes from,\n",
        "it is not updated when we change `weight_kg`."
      ],
      "metadata": {
        "id": "tN_Yusov9Xx9"
      }
    },
    {
      "cell_type": "markdown",
      "source": [
        "## Check Your Understanding\n",
        "\n",
        "What values do the variables `mass` and `age` have after each of the following statements?\n",
        "\n",
        "Guess before executing the lines below..."
      ],
      "metadata": {
        "id": "VulGkaqP9jMp"
      }
    },
    {
      "cell_type": "code",
      "source": [
        "mass = 47.5\n",
        "print(\"mass is\", mass)\n",
        "print(\"age is\", age)"
      ],
      "metadata": {
        "id": "ppi8ti6d9rd8",
        "colab": {
          "base_uri": "https://localhost:8080/",
          "height": 193
        },
        "outputId": "747079ac-789c-40bc-da65-d4d1533c7707"
      },
      "execution_count": null,
      "outputs": [
        {
          "output_type": "stream",
          "name": "stdout",
          "text": [
            "mass is 47.5\n"
          ]
        },
        {
          "output_type": "error",
          "ename": "NameError",
          "evalue": "name 'age' is not defined",
          "traceback": [
            "\u001b[0;31m---------------------------------------------------------------------------\u001b[0m",
            "\u001b[0;31mNameError\u001b[0m                                 Traceback (most recent call last)",
            "\u001b[0;32m<ipython-input-9-e5082b1d70e7>\u001b[0m in \u001b[0;36m<cell line: 3>\u001b[0;34m()\u001b[0m\n\u001b[1;32m      1\u001b[0m \u001b[0mmass\u001b[0m \u001b[0;34m=\u001b[0m \u001b[0;36m47.5\u001b[0m\u001b[0;34m\u001b[0m\u001b[0;34m\u001b[0m\u001b[0m\n\u001b[1;32m      2\u001b[0m \u001b[0mprint\u001b[0m\u001b[0;34m(\u001b[0m\u001b[0;34m\"mass is\"\u001b[0m\u001b[0;34m,\u001b[0m \u001b[0mmass\u001b[0m\u001b[0;34m)\u001b[0m\u001b[0;34m\u001b[0m\u001b[0;34m\u001b[0m\u001b[0m\n\u001b[0;32m----> 3\u001b[0;31m \u001b[0mprint\u001b[0m\u001b[0;34m(\u001b[0m\u001b[0;34m\"age is\"\u001b[0m\u001b[0;34m,\u001b[0m \u001b[0mage\u001b[0m\u001b[0;34m)\u001b[0m\u001b[0;34m\u001b[0m\u001b[0;34m\u001b[0m\u001b[0m\n\u001b[0m",
            "\u001b[0;31mNameError\u001b[0m: name 'age' is not defined"
          ]
        }
      ]
    },
    {
      "cell_type": "code",
      "source": [
        "age = 122\n",
        "print(\"mass is\", mass)\n",
        "print(\"age is\", age)"
      ],
      "metadata": {
        "id": "OrBQpVQXa2uS",
        "colab": {
          "base_uri": "https://localhost:8080/"
        },
        "outputId": "cdc6bb60-ca00-4d6e-bd94-4b41362c8f28"
      },
      "execution_count": null,
      "outputs": [
        {
          "output_type": "stream",
          "name": "stdout",
          "text": [
            "mass is 47.5\n",
            "age is 122\n"
          ]
        }
      ]
    },
    {
      "cell_type": "code",
      "source": [
        "mass = mass * 2.0\n",
        "print(\"mass is\", mass)\n",
        "print(\"age is\", age)"
      ],
      "metadata": {
        "id": "0PEer3Jaa5gr"
      },
      "execution_count": null,
      "outputs": []
    },
    {
      "cell_type": "code",
      "source": [
        "age = age - 20\n",
        "print(\"mass is\", mass)\n",
        "print(\"age is\", age)"
      ],
      "metadata": {
        "id": "YqBUCO2Ua7Vk"
      },
      "execution_count": null,
      "outputs": []
    },
    {
      "cell_type": "markdown",
      "source": [
        "## Sorting Out References\n",
        "Python allows you to assign multiple values to multiple variables in one line by separating the variables and values with commas. What does the following program print out?"
      ],
      "metadata": {
        "id": "EdWoZVG2-PKk"
      }
    },
    {
      "cell_type": "code",
      "source": [
        "a, b = \"Benji\", \"Maple\"\n",
        "print(a, b)"
      ],
      "metadata": {
        "id": "IAAYWlIQs3nq"
      },
      "execution_count": null,
      "outputs": []
    },
    {
      "cell_type": "code",
      "source": [
        "first, second = \"Grace\", \"Hopper\"\n",
        "third, fourth = second, first\n",
        "print(third, fourth)"
      ],
      "metadata": {
        "id": "VkwNf2OT-UX9"
      },
      "execution_count": null,
      "outputs": []
    },
    {
      "cell_type": "markdown",
      "source": [
        "## Seeing Data Types\n",
        "\n",
        "What are the data types of the following variables? Try to guess before executing the cell."
      ],
      "metadata": {
        "id": "x4zDBM9f-uLp"
      }
    },
    {
      "cell_type": "code",
      "source": [
        "planet = \"Earth\"\n",
        "apples = 5\n",
        "distance = 10.5\n",
        "print(type(planet))\n",
        "print(type(apples))\n",
        "print(type(distance))"
      ],
      "metadata": {
        "id": "qyyiKScY-oHZ",
        "colab": {
          "base_uri": "https://localhost:8080/"
        },
        "outputId": "62e54cd6-82f7-4d9b-a3f4-8283a3d40303"
      },
      "execution_count": null,
      "outputs": [
        {
          "output_type": "stream",
          "name": "stdout",
          "text": [
            "<class 'str'>\n",
            "<class 'int'>\n",
            "<class 'float'>\n"
          ]
        }
      ]
    },
    {
      "cell_type": "markdown",
      "source": [
        "## Key Points\n",
        "- Basic data types in Python include integers, strings, and floating-point numbers (among many others).\n",
        "- Use `variable = value` to assign a value to a variable in order to store it in memory.\n",
        "- Variables are created on demand whenever values are assigned to them.\n",
        "- Use `print(something)` to display the value of `something`.\n",
        "- Built-in functions are always available to use."
      ],
      "metadata": {
        "id": "kwFCzCqXIGqs"
      }
    },
    {
      "cell_type": "markdown",
      "source": [
        "# Homework"
      ],
      "metadata": {
        "id": "XJ8BP2vbb2F0"
      }
    },
    {
      "cell_type": "markdown",
      "source": [
        "Which of the following are legal Python variable names? First make a guess then copy these assignment statements into the next cell and run them.\n",
        "```\n",
        "average = 1\n",
        "Max = 1\n",
        "LadyGaGa = 1  \n",
        "_Lady_Ga_Ga = 1\n",
        "FiftyYardLine = 1    \n",
        "50_yard_line = 1  \n",
        "yard_line_50 = 1  \n",
        "raise = 1  \n",
        "my-cat-is-awesome = 1\n",
        "my_cat_is_awesome = 1  \n",
        "```"
      ],
      "metadata": {
        "id": "J72xu17T1E3F"
      }
    },
    {
      "cell_type": "code",
      "source": [],
      "metadata": {
        "id": "jVRpXn1Y1H2Q"
      },
      "execution_count": null,
      "outputs": []
    },
    {
      "cell_type": "markdown",
      "source": [
        "In one statement, calculate and print your weekly pay if you earn $100 every day.\n",
        "\n"
      ],
      "metadata": {
        "id": "HeLdyFLbb7P0"
      }
    },
    {
      "cell_type": "code",
      "source": [
        "weekly_pay = 100\n",
        "days_per_week = 5\n",
        "print(weekly_pay * days_per_week)"
      ],
      "metadata": {
        "id": "-TmtupM-b6UN",
        "colab": {
          "base_uri": "https://localhost:8080/"
        },
        "outputId": "eee531f5-685e-42fc-99c6-1a1de51f6809"
      },
      "execution_count": null,
      "outputs": [
        {
          "output_type": "stream",
          "name": "stdout",
          "text": [
            "500\n"
          ]
        }
      ]
    },
    {
      "cell_type": "markdown",
      "source": [
        "Store your daily pay rate in a variable."
      ],
      "metadata": {
        "id": "5Q2cc0sBcJBM"
      }
    },
    {
      "cell_type": "code",
      "source": [],
      "metadata": {
        "id": "xmDX9SqScEj0"
      },
      "execution_count": null,
      "outputs": []
    },
    {
      "cell_type": "markdown",
      "source": [
        "Use the variable to calculate and print your weekly pay."
      ],
      "metadata": {
        "id": "8h4t_xV3cW09"
      }
    },
    {
      "cell_type": "code",
      "source": [],
      "metadata": {
        "id": "OBip189vcaji"
      },
      "execution_count": null,
      "outputs": []
    },
    {
      "cell_type": "markdown",
      "source": [
        "Congratulations - you just got a raise. Your new daily pay rate is $120. Assign a new value to the daily pay variable. Then calculate and print your new weekly pay."
      ],
      "metadata": {
        "id": "u8qUUJCWcbBo"
      }
    },
    {
      "cell_type": "code",
      "source": [],
      "metadata": {
        "id": "VHUIaTuCcxpa"
      },
      "execution_count": null,
      "outputs": []
    },
    {
      "cell_type": "markdown",
      "source": [
        "Store the number of days in a week in a variable. Then calculate and print your weekly pay."
      ],
      "metadata": {
        "id": "DrJeGgybcy31"
      }
    },
    {
      "cell_type": "code",
      "source": [],
      "metadata": {
        "id": "1o4--aFsc4ml"
      },
      "execution_count": null,
      "outputs": []
    },
    {
      "cell_type": "markdown",
      "source": [
        "In one statement, calculate your weekly pay rate using only variables and store the result in a new variable. Then print that new variable."
      ],
      "metadata": {
        "id": "z24PtICYdCH0"
      }
    },
    {
      "cell_type": "code",
      "source": [],
      "metadata": {
        "id": "cXTeWEXZdPU9"
      },
      "execution_count": null,
      "outputs": []
    },
    {
      "cell_type": "markdown",
      "source": [
        "Calculate and print your weekly, monthly, and annual pay using only variables. Assume 30 days per month and 365 days per year."
      ],
      "metadata": {
        "id": "qi66Z8TOdPuw"
      }
    },
    {
      "cell_type": "code",
      "source": [],
      "metadata": {
        "id": "TGi5ARZpdnt6"
      },
      "execution_count": null,
      "outputs": []
    },
    {
      "cell_type": "markdown",
      "source": [
        "Print the your first, middle, and last name, each on a separate line.\n",
        "\n"
      ],
      "metadata": {
        "id": "Dtag2RwKdpEx"
      }
    },
    {
      "cell_type": "code",
      "source": [],
      "metadata": {
        "id": "NKZymN6Idwe-"
      },
      "execution_count": null,
      "outputs": []
    },
    {
      "cell_type": "markdown",
      "source": [
        "Print the your first, middle, and last name, all on one line.\n"
      ],
      "metadata": {
        "id": "stkouGzNdxFE"
      }
    },
    {
      "cell_type": "code",
      "source": [],
      "metadata": {
        "id": "CcIX7JBJd2xK"
      },
      "execution_count": null,
      "outputs": []
    },
    {
      "cell_type": "markdown",
      "source": [
        "Write a program to calculate the total number of hours in a fixed set of days, where the number of days is assigned to a variable."
      ],
      "metadata": {
        "id": "5h0TD8Fwe0yx"
      }
    },
    {
      "cell_type": "code",
      "source": [],
      "metadata": {
        "id": "1Jc6AfvPeyhz"
      },
      "execution_count": null,
      "outputs": []
    },
    {
      "cell_type": "markdown",
      "source": [
        "Run the following cell to load a sample cars dataset into this notebook."
      ],
      "metadata": {
        "id": "O9X1Y_s1jBB_"
      }
    },
    {
      "cell_type": "code",
      "source": [
        "from google.colab import data_table\n",
        "from vega_datasets import data\n",
        "cars = data.cars()\n",
        "cars"
      ],
      "metadata": {
        "id": "uBrGj820jFrb",
        "colab": {
          "base_uri": "https://localhost:8080/",
          "height": 669
        },
        "outputId": "2f5d7820-2026-4c59-c191-7b5bfd46655b"
      },
      "execution_count": null,
      "outputs": [
        {
          "output_type": "execute_result",
          "data": {
            "text/plain": [
              "                          Name  Miles_per_Gallon  Cylinders  Displacement  \\\n",
              "0    chevrolet chevelle malibu              18.0          8         307.0   \n",
              "1            buick skylark 320              15.0          8         350.0   \n",
              "2           plymouth satellite              18.0          8         318.0   \n",
              "3                amc rebel sst              16.0          8         304.0   \n",
              "4                  ford torino              17.0          8         302.0   \n",
              "..                         ...               ...        ...           ...   \n",
              "401            ford mustang gl              27.0          4         140.0   \n",
              "402                  vw pickup              44.0          4          97.0   \n",
              "403              dodge rampage              32.0          4         135.0   \n",
              "404                ford ranger              28.0          4         120.0   \n",
              "405                 chevy s-10              31.0          4         119.0   \n",
              "\n",
              "     Horsepower  Weight_in_lbs  Acceleration       Year  Origin  \n",
              "0         130.0           3504          12.0 1970-01-01     USA  \n",
              "1         165.0           3693          11.5 1970-01-01     USA  \n",
              "2         150.0           3436          11.0 1970-01-01     USA  \n",
              "3         150.0           3433          12.0 1970-01-01     USA  \n",
              "4         140.0           3449          10.5 1970-01-01     USA  \n",
              "..          ...            ...           ...        ...     ...  \n",
              "401        86.0           2790          15.6 1982-01-01     USA  \n",
              "402        52.0           2130          24.6 1982-01-01  Europe  \n",
              "403        84.0           2295          11.6 1982-01-01     USA  \n",
              "404        79.0           2625          18.6 1982-01-01     USA  \n",
              "405        82.0           2720          19.4 1982-01-01     USA  \n",
              "\n",
              "[406 rows x 9 columns]"
            ],
            "text/html": [
              "\n",
              "  <div id=\"df-619b7547-056a-45c8-a846-152ef31b2032\" class=\"colab-df-container\">\n",
              "    <div>\n",
              "<style scoped>\n",
              "    .dataframe tbody tr th:only-of-type {\n",
              "        vertical-align: middle;\n",
              "    }\n",
              "\n",
              "    .dataframe tbody tr th {\n",
              "        vertical-align: top;\n",
              "    }\n",
              "\n",
              "    .dataframe thead th {\n",
              "        text-align: right;\n",
              "    }\n",
              "</style>\n",
              "<table border=\"1\" class=\"dataframe\">\n",
              "  <thead>\n",
              "    <tr style=\"text-align: right;\">\n",
              "      <th></th>\n",
              "      <th>Name</th>\n",
              "      <th>Miles_per_Gallon</th>\n",
              "      <th>Cylinders</th>\n",
              "      <th>Displacement</th>\n",
              "      <th>Horsepower</th>\n",
              "      <th>Weight_in_lbs</th>\n",
              "      <th>Acceleration</th>\n",
              "      <th>Year</th>\n",
              "      <th>Origin</th>\n",
              "    </tr>\n",
              "  </thead>\n",
              "  <tbody>\n",
              "    <tr>\n",
              "      <th>0</th>\n",
              "      <td>chevrolet chevelle malibu</td>\n",
              "      <td>18.0</td>\n",
              "      <td>8</td>\n",
              "      <td>307.0</td>\n",
              "      <td>130.0</td>\n",
              "      <td>3504</td>\n",
              "      <td>12.0</td>\n",
              "      <td>1970-01-01</td>\n",
              "      <td>USA</td>\n",
              "    </tr>\n",
              "    <tr>\n",
              "      <th>1</th>\n",
              "      <td>buick skylark 320</td>\n",
              "      <td>15.0</td>\n",
              "      <td>8</td>\n",
              "      <td>350.0</td>\n",
              "      <td>165.0</td>\n",
              "      <td>3693</td>\n",
              "      <td>11.5</td>\n",
              "      <td>1970-01-01</td>\n",
              "      <td>USA</td>\n",
              "    </tr>\n",
              "    <tr>\n",
              "      <th>2</th>\n",
              "      <td>plymouth satellite</td>\n",
              "      <td>18.0</td>\n",
              "      <td>8</td>\n",
              "      <td>318.0</td>\n",
              "      <td>150.0</td>\n",
              "      <td>3436</td>\n",
              "      <td>11.0</td>\n",
              "      <td>1970-01-01</td>\n",
              "      <td>USA</td>\n",
              "    </tr>\n",
              "    <tr>\n",
              "      <th>3</th>\n",
              "      <td>amc rebel sst</td>\n",
              "      <td>16.0</td>\n",
              "      <td>8</td>\n",
              "      <td>304.0</td>\n",
              "      <td>150.0</td>\n",
              "      <td>3433</td>\n",
              "      <td>12.0</td>\n",
              "      <td>1970-01-01</td>\n",
              "      <td>USA</td>\n",
              "    </tr>\n",
              "    <tr>\n",
              "      <th>4</th>\n",
              "      <td>ford torino</td>\n",
              "      <td>17.0</td>\n",
              "      <td>8</td>\n",
              "      <td>302.0</td>\n",
              "      <td>140.0</td>\n",
              "      <td>3449</td>\n",
              "      <td>10.5</td>\n",
              "      <td>1970-01-01</td>\n",
              "      <td>USA</td>\n",
              "    </tr>\n",
              "    <tr>\n",
              "      <th>...</th>\n",
              "      <td>...</td>\n",
              "      <td>...</td>\n",
              "      <td>...</td>\n",
              "      <td>...</td>\n",
              "      <td>...</td>\n",
              "      <td>...</td>\n",
              "      <td>...</td>\n",
              "      <td>...</td>\n",
              "      <td>...</td>\n",
              "    </tr>\n",
              "    <tr>\n",
              "      <th>401</th>\n",
              "      <td>ford mustang gl</td>\n",
              "      <td>27.0</td>\n",
              "      <td>4</td>\n",
              "      <td>140.0</td>\n",
              "      <td>86.0</td>\n",
              "      <td>2790</td>\n",
              "      <td>15.6</td>\n",
              "      <td>1982-01-01</td>\n",
              "      <td>USA</td>\n",
              "    </tr>\n",
              "    <tr>\n",
              "      <th>402</th>\n",
              "      <td>vw pickup</td>\n",
              "      <td>44.0</td>\n",
              "      <td>4</td>\n",
              "      <td>97.0</td>\n",
              "      <td>52.0</td>\n",
              "      <td>2130</td>\n",
              "      <td>24.6</td>\n",
              "      <td>1982-01-01</td>\n",
              "      <td>Europe</td>\n",
              "    </tr>\n",
              "    <tr>\n",
              "      <th>403</th>\n",
              "      <td>dodge rampage</td>\n",
              "      <td>32.0</td>\n",
              "      <td>4</td>\n",
              "      <td>135.0</td>\n",
              "      <td>84.0</td>\n",
              "      <td>2295</td>\n",
              "      <td>11.6</td>\n",
              "      <td>1982-01-01</td>\n",
              "      <td>USA</td>\n",
              "    </tr>\n",
              "    <tr>\n",
              "      <th>404</th>\n",
              "      <td>ford ranger</td>\n",
              "      <td>28.0</td>\n",
              "      <td>4</td>\n",
              "      <td>120.0</td>\n",
              "      <td>79.0</td>\n",
              "      <td>2625</td>\n",
              "      <td>18.6</td>\n",
              "      <td>1982-01-01</td>\n",
              "      <td>USA</td>\n",
              "    </tr>\n",
              "    <tr>\n",
              "      <th>405</th>\n",
              "      <td>chevy s-10</td>\n",
              "      <td>31.0</td>\n",
              "      <td>4</td>\n",
              "      <td>119.0</td>\n",
              "      <td>82.0</td>\n",
              "      <td>2720</td>\n",
              "      <td>19.4</td>\n",
              "      <td>1982-01-01</td>\n",
              "      <td>USA</td>\n",
              "    </tr>\n",
              "  </tbody>\n",
              "</table>\n",
              "<p>406 rows × 9 columns</p>\n",
              "</div>\n",
              "    <div class=\"colab-df-buttons\">\n",
              "\n",
              "  <div class=\"colab-df-container\">\n",
              "    <button class=\"colab-df-convert\" onclick=\"convertToInteractive('df-619b7547-056a-45c8-a846-152ef31b2032')\"\n",
              "            title=\"Convert this dataframe to an interactive table.\"\n",
              "            style=\"display:none;\">\n",
              "\n",
              "  <svg xmlns=\"http://www.w3.org/2000/svg\" height=\"24px\" viewBox=\"0 -960 960 960\">\n",
              "    <path d=\"M120-120v-720h720v720H120Zm60-500h600v-160H180v160Zm220 220h160v-160H400v160Zm0 220h160v-160H400v160ZM180-400h160v-160H180v160Zm440 0h160v-160H620v160ZM180-180h160v-160H180v160Zm440 0h160v-160H620v160Z\"/>\n",
              "  </svg>\n",
              "    </button>\n",
              "\n",
              "  <style>\n",
              "    .colab-df-container {\n",
              "      display:flex;\n",
              "      gap: 12px;\n",
              "    }\n",
              "\n",
              "    .colab-df-convert {\n",
              "      background-color: #E8F0FE;\n",
              "      border: none;\n",
              "      border-radius: 50%;\n",
              "      cursor: pointer;\n",
              "      display: none;\n",
              "      fill: #1967D2;\n",
              "      height: 32px;\n",
              "      padding: 0 0 0 0;\n",
              "      width: 32px;\n",
              "    }\n",
              "\n",
              "    .colab-df-convert:hover {\n",
              "      background-color: #E2EBFA;\n",
              "      box-shadow: 0px 1px 2px rgba(60, 64, 67, 0.3), 0px 1px 3px 1px rgba(60, 64, 67, 0.15);\n",
              "      fill: #174EA6;\n",
              "    }\n",
              "\n",
              "    .colab-df-buttons div {\n",
              "      margin-bottom: 4px;\n",
              "    }\n",
              "\n",
              "    [theme=dark] .colab-df-convert {\n",
              "      background-color: #3B4455;\n",
              "      fill: #D2E3FC;\n",
              "    }\n",
              "\n",
              "    [theme=dark] .colab-df-convert:hover {\n",
              "      background-color: #434B5C;\n",
              "      box-shadow: 0px 1px 3px 1px rgba(0, 0, 0, 0.15);\n",
              "      filter: drop-shadow(0px 1px 2px rgba(0, 0, 0, 0.3));\n",
              "      fill: #FFFFFF;\n",
              "    }\n",
              "  </style>\n",
              "\n",
              "    <script>\n",
              "      const buttonEl =\n",
              "        document.querySelector('#df-619b7547-056a-45c8-a846-152ef31b2032 button.colab-df-convert');\n",
              "      buttonEl.style.display =\n",
              "        google.colab.kernel.accessAllowed ? 'block' : 'none';\n",
              "\n",
              "      async function convertToInteractive(key) {\n",
              "        const element = document.querySelector('#df-619b7547-056a-45c8-a846-152ef31b2032');\n",
              "        const dataTable =\n",
              "          await google.colab.kernel.invokeFunction('convertToInteractive',\n",
              "                                                    [key], {});\n",
              "        if (!dataTable) return;\n",
              "\n",
              "        const docLinkHtml = 'Like what you see? Visit the ' +\n",
              "          '<a target=\"_blank\" href=https://colab.research.google.com/notebooks/data_table.ipynb>data table notebook</a>'\n",
              "          + ' to learn more about interactive tables.';\n",
              "        element.innerHTML = '';\n",
              "        dataTable['output_type'] = 'display_data';\n",
              "        await google.colab.output.renderOutput(dataTable, element);\n",
              "        const docLink = document.createElement('div');\n",
              "        docLink.innerHTML = docLinkHtml;\n",
              "        element.appendChild(docLink);\n",
              "      }\n",
              "    </script>\n",
              "  </div>\n",
              "\n",
              "\n",
              "<div id=\"df-35586967-7e1b-4c3b-8505-1a333d5856a3\">\n",
              "  <button class=\"colab-df-quickchart\" onclick=\"quickchart('df-35586967-7e1b-4c3b-8505-1a333d5856a3')\"\n",
              "            title=\"Suggest charts\"\n",
              "            style=\"display:none;\">\n",
              "\n",
              "<svg xmlns=\"http://www.w3.org/2000/svg\" height=\"24px\"viewBox=\"0 0 24 24\"\n",
              "     width=\"24px\">\n",
              "    <g>\n",
              "        <path d=\"M19 3H5c-1.1 0-2 .9-2 2v14c0 1.1.9 2 2 2h14c1.1 0 2-.9 2-2V5c0-1.1-.9-2-2-2zM9 17H7v-7h2v7zm4 0h-2V7h2v10zm4 0h-2v-4h2v4z\"/>\n",
              "    </g>\n",
              "</svg>\n",
              "  </button>\n",
              "\n",
              "<style>\n",
              "  .colab-df-quickchart {\n",
              "      --bg-color: #E8F0FE;\n",
              "      --fill-color: #1967D2;\n",
              "      --hover-bg-color: #E2EBFA;\n",
              "      --hover-fill-color: #174EA6;\n",
              "      --disabled-fill-color: #AAA;\n",
              "      --disabled-bg-color: #DDD;\n",
              "  }\n",
              "\n",
              "  [theme=dark] .colab-df-quickchart {\n",
              "      --bg-color: #3B4455;\n",
              "      --fill-color: #D2E3FC;\n",
              "      --hover-bg-color: #434B5C;\n",
              "      --hover-fill-color: #FFFFFF;\n",
              "      --disabled-bg-color: #3B4455;\n",
              "      --disabled-fill-color: #666;\n",
              "  }\n",
              "\n",
              "  .colab-df-quickchart {\n",
              "    background-color: var(--bg-color);\n",
              "    border: none;\n",
              "    border-radius: 50%;\n",
              "    cursor: pointer;\n",
              "    display: none;\n",
              "    fill: var(--fill-color);\n",
              "    height: 32px;\n",
              "    padding: 0;\n",
              "    width: 32px;\n",
              "  }\n",
              "\n",
              "  .colab-df-quickchart:hover {\n",
              "    background-color: var(--hover-bg-color);\n",
              "    box-shadow: 0 1px 2px rgba(60, 64, 67, 0.3), 0 1px 3px 1px rgba(60, 64, 67, 0.15);\n",
              "    fill: var(--button-hover-fill-color);\n",
              "  }\n",
              "\n",
              "  .colab-df-quickchart-complete:disabled,\n",
              "  .colab-df-quickchart-complete:disabled:hover {\n",
              "    background-color: var(--disabled-bg-color);\n",
              "    fill: var(--disabled-fill-color);\n",
              "    box-shadow: none;\n",
              "  }\n",
              "\n",
              "  .colab-df-spinner {\n",
              "    border: 2px solid var(--fill-color);\n",
              "    border-color: transparent;\n",
              "    border-bottom-color: var(--fill-color);\n",
              "    animation:\n",
              "      spin 1s steps(1) infinite;\n",
              "  }\n",
              "\n",
              "  @keyframes spin {\n",
              "    0% {\n",
              "      border-color: transparent;\n",
              "      border-bottom-color: var(--fill-color);\n",
              "      border-left-color: var(--fill-color);\n",
              "    }\n",
              "    20% {\n",
              "      border-color: transparent;\n",
              "      border-left-color: var(--fill-color);\n",
              "      border-top-color: var(--fill-color);\n",
              "    }\n",
              "    30% {\n",
              "      border-color: transparent;\n",
              "      border-left-color: var(--fill-color);\n",
              "      border-top-color: var(--fill-color);\n",
              "      border-right-color: var(--fill-color);\n",
              "    }\n",
              "    40% {\n",
              "      border-color: transparent;\n",
              "      border-right-color: var(--fill-color);\n",
              "      border-top-color: var(--fill-color);\n",
              "    }\n",
              "    60% {\n",
              "      border-color: transparent;\n",
              "      border-right-color: var(--fill-color);\n",
              "    }\n",
              "    80% {\n",
              "      border-color: transparent;\n",
              "      border-right-color: var(--fill-color);\n",
              "      border-bottom-color: var(--fill-color);\n",
              "    }\n",
              "    90% {\n",
              "      border-color: transparent;\n",
              "      border-bottom-color: var(--fill-color);\n",
              "    }\n",
              "  }\n",
              "</style>\n",
              "\n",
              "  <script>\n",
              "    async function quickchart(key) {\n",
              "      const quickchartButtonEl =\n",
              "        document.querySelector('#' + key + ' button');\n",
              "      quickchartButtonEl.disabled = true;  // To prevent multiple clicks.\n",
              "      quickchartButtonEl.classList.add('colab-df-spinner');\n",
              "      try {\n",
              "        const charts = await google.colab.kernel.invokeFunction(\n",
              "            'suggestCharts', [key], {});\n",
              "      } catch (error) {\n",
              "        console.error('Error during call to suggestCharts:', error);\n",
              "      }\n",
              "      quickchartButtonEl.classList.remove('colab-df-spinner');\n",
              "      quickchartButtonEl.classList.add('colab-df-quickchart-complete');\n",
              "    }\n",
              "    (() => {\n",
              "      let quickchartButtonEl =\n",
              "        document.querySelector('#df-35586967-7e1b-4c3b-8505-1a333d5856a3 button');\n",
              "      quickchartButtonEl.style.display =\n",
              "        google.colab.kernel.accessAllowed ? 'block' : 'none';\n",
              "    })();\n",
              "  </script>\n",
              "</div>\n",
              "    </div>\n",
              "  </div>\n"
            ],
            "application/vnd.google.colaboratory.intrinsic+json": {
              "type": "dataframe",
              "variable_name": "cars",
              "summary": "{\n  \"name\": \"cars\",\n  \"rows\": 406,\n  \"fields\": [\n    {\n      \"column\": \"Name\",\n      \"properties\": {\n        \"dtype\": \"string\",\n        \"num_unique_values\": 311,\n        \"samples\": [\n          \"amc concord dl\",\n          \"amc ambassador dpl\",\n          \"plymouth cricket\"\n        ],\n        \"semantic_type\": \"\",\n        \"description\": \"\"\n      }\n    },\n    {\n      \"column\": \"Miles_per_Gallon\",\n      \"properties\": {\n        \"dtype\": \"number\",\n        \"std\": 7.8159843125657815,\n        \"min\": 9.0,\n        \"max\": 46.6,\n        \"num_unique_values\": 129,\n        \"samples\": [\n          17.7,\n          30.5,\n          30.0\n        ],\n        \"semantic_type\": \"\",\n        \"description\": \"\"\n      }\n    },\n    {\n      \"column\": \"Cylinders\",\n      \"properties\": {\n        \"dtype\": \"number\",\n        \"std\": 1,\n        \"min\": 3,\n        \"max\": 8,\n        \"num_unique_values\": 5,\n        \"samples\": [\n          4,\n          5,\n          6\n        ],\n        \"semantic_type\": \"\",\n        \"description\": \"\"\n      }\n    },\n    {\n      \"column\": \"Displacement\",\n      \"properties\": {\n        \"dtype\": \"number\",\n        \"std\": 104.92245837948875,\n        \"min\": 68.0,\n        \"max\": 455.0,\n        \"num_unique_values\": 83,\n        \"samples\": [\n          258.0,\n          307.0,\n          107.0\n        ],\n        \"semantic_type\": \"\",\n        \"description\": \"\"\n      }\n    },\n    {\n      \"column\": \"Horsepower\",\n      \"properties\": {\n        \"dtype\": \"number\",\n        \"std\": 38.7687791831052,\n        \"min\": 46.0,\n        \"max\": 230.0,\n        \"num_unique_values\": 93,\n        \"samples\": [\n          155.0,\n          200.0,\n          83.0\n        ],\n        \"semantic_type\": \"\",\n        \"description\": \"\"\n      }\n    },\n    {\n      \"column\": \"Weight_in_lbs\",\n      \"properties\": {\n        \"dtype\": \"number\",\n        \"std\": 847,\n        \"min\": 1613,\n        \"max\": 5140,\n        \"num_unique_values\": 356,\n        \"samples\": [\n          2051,\n          3288,\n          2405\n        ],\n        \"semantic_type\": \"\",\n        \"description\": \"\"\n      }\n    },\n    {\n      \"column\": \"Acceleration\",\n      \"properties\": {\n        \"dtype\": \"number\",\n        \"std\": 2.803358816342546,\n        \"min\": 8.0,\n        \"max\": 24.8,\n        \"num_unique_values\": 96,\n        \"samples\": [\n          17.9,\n          12.9,\n          14.3\n        ],\n        \"semantic_type\": \"\",\n        \"description\": \"\"\n      }\n    },\n    {\n      \"column\": \"Year\",\n      \"properties\": {\n        \"dtype\": \"date\",\n        \"min\": \"1970-01-01 00:00:00\",\n        \"max\": \"1982-01-01 00:00:00\",\n        \"num_unique_values\": 12,\n        \"samples\": [\n          \"1980-01-01 00:00:00\",\n          \"1979-01-01 00:00:00\",\n          \"1970-01-01 00:00:00\"\n        ],\n        \"semantic_type\": \"\",\n        \"description\": \"\"\n      }\n    },\n    {\n      \"column\": \"Origin\",\n      \"properties\": {\n        \"dtype\": \"category\",\n        \"num_unique_values\": 3,\n        \"samples\": [\n          \"USA\",\n          \"Europe\",\n          \"Japan\"\n        ],\n        \"semantic_type\": \"\",\n        \"description\": \"\"\n      }\n    }\n  ]\n}"
            }
          },
          "metadata": {},
          "execution_count": 15
        }
      ]
    },
    {
      "cell_type": "markdown",
      "source": [
        "Run the next cell to examine one column of the table."
      ],
      "metadata": {
        "id": "VlxXKH78joV5"
      }
    },
    {
      "cell_type": "code",
      "source": [
        "cars[\"Miles_per_Gallon\"]"
      ],
      "metadata": {
        "id": "68_ecAUsjxbV"
      },
      "execution_count": null,
      "outputs": []
    },
    {
      "cell_type": "markdown",
      "source": [
        "Run the next cell to examine whether the column you just looked at has values above 20 miles per gallon."
      ],
      "metadata": {
        "id": "BwGFe2RikcRo"
      }
    },
    {
      "cell_type": "code",
      "source": [
        "cars[\"Miles_per_Gallon\"] > 20"
      ],
      "metadata": {
        "id": "Hlydu23okQsA"
      },
      "execution_count": null,
      "outputs": []
    },
    {
      "cell_type": "markdown",
      "source": [
        "Run the next cell to build upon your last statement to examine only the rows in the cars dataset for cars that have over 20 miles per gallon."
      ],
      "metadata": {
        "id": "HNWfhEGjkC7i"
      }
    },
    {
      "cell_type": "code",
      "source": [
        "cars[cars[\"Miles_per_Gallon\"] > 20]"
      ],
      "metadata": {
        "id": "WrjeyF5Vkw85"
      },
      "execution_count": null,
      "outputs": []
    },
    {
      "cell_type": "markdown",
      "source": [
        "This is great but needing to change code and execute a cell every time we want to ask a question can get tedious and slows us down.\n",
        "\n",
        "Execute the next cell to enable an interactive version of the `cars` table. Notice the addition of this line:\n",
        "```\n",
        "data_table.enable_dataframe_formatter()\n",
        "```\n",
        "This enables a more interactive way to explore data tables in Colab. Try these exercises:\n",
        "- Examine different pages of the data table by clicking on the numbers on the bottom right.\n",
        "- Click on a column header to sort the rows in the order that column's values.\n",
        "- Click the *Filter* button on the upper right and enter values in some of the fields you see available for searching.\n",
        "- Try using the filters to find the cars with more than 20 miles per gallon.\n",
        "\n",
        "As you can see, this table is more interactive and easier to explore than the one you generated in the previous cell."
      ],
      "metadata": {
        "id": "RjVdJpjBlH7s"
      }
    },
    {
      "cell_type": "code",
      "source": [
        "data_table.enable_dataframe_formatter()\n",
        "cars"
      ],
      "metadata": {
        "id": "WEArEgVqmE-N"
      },
      "execution_count": null,
      "outputs": []
    },
    {
      "cell_type": "markdown",
      "source": [
        "From the menu bar, select Tools->Command Palette to see a list of the commands you can execute inside a Colab notebook. Most of these commands are intuitively named. For example, to save your notebook in Google Drive, run \"Save notebook\" now from the command palette. You can find it quickly by typing \"save\" in the search box.\n",
        "\n",
        "Don't worry if you're not sure what some of the commands in the command palette do. For now, I just want you to know about this resource."
      ],
      "metadata": {
        "id": "LZ1IS0jSpZi0"
      }
    },
    {
      "cell_type": "markdown",
      "source": [
        "Congratulations for making it this far! Your last assignment is to watch this [short video](https://www.youtube.com/watch?v=inN8seMm7UI) and take a [quick tour of Colab](https://colab.research.google.com/notebooks/intro.ipynb)."
      ],
      "metadata": {
        "id": "2gpMPXdRf9GE"
      }
    },
    {
      "cell_type": "markdown",
      "source": [
        "**It's a good idea to save your work after a notebook session.** You can use the command palette to do this, as you just did in the previous cell, but since this is a common function, you'll see an easier way to save your notebook via the File->Save menu item.\n",
        "\n"
      ],
      "metadata": {
        "id": "VbfEFfZvq55E"
      }
    },
    {
      "cell_type": "markdown",
      "source": [
        "[Previous Lesson](https://mco.fyi/py0)\n",
        "&nbsp;&nbsp;&nbsp;&nbsp;&nbsp;&nbsp;&nbsp;&nbsp;&nbsp;&nbsp;\n",
        "[Next Lesson](https://mco.fyi/py2)"
      ],
      "metadata": {
        "id": "SR3FUvVKkFQP"
      }
    }
  ]
}